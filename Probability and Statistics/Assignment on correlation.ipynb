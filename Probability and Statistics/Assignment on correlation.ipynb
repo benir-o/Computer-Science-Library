{
 "cells": [
  {
   "cell_type": "code",
   "execution_count": 1,
   "id": "20abc559",
   "metadata": {},
   "outputs": [
    {
     "name": "stdout",
     "output_type": "stream",
     "text": [
      "We import the libraries we will use\n"
     ]
    }
   ],
   "source": [
    "import numpy as np\n",
    "import matplotlib.pyplot as plt\n",
    "import pandas as pd\n",
    "from scipy import stats\n",
    "print(\"We import the libraries we will use\")"
   ]
  },
  {
   "cell_type": "code",
   "execution_count": 2,
   "id": "b2550a14",
   "metadata": {},
   "outputs": [
    {
     "name": "stdout",
     "output_type": "stream",
     "text": [
      "   Student  Hours_Coding  Num_Bugs\n",
      "0        1          10.7        25\n",
      "1        2          24.8        50\n",
      "2        3          19.4        38\n",
      "3        4          16.2        31\n",
      "4        5           5.3         3\n"
     ]
    }
   ],
   "source": [
    "df=pd.read_excel('DATA.xlsx')\n",
    "#We read the excel file\n",
    "print(df.head()) # We then print the first 5 rows "
   ]
  },
  {
   "cell_type": "code",
   "execution_count": 3,
   "id": "25046d51",
   "metadata": {},
   "outputs": [
    {
     "name": "stdout",
     "output_type": "stream",
     "text": [
      "Columns: ['Student', 'Hours_Coding', 'Num_Bugs']\n"
     ]
    }
   ],
   "source": [
    "#We then confirm the column names, preferrably by arranging them into a list\n",
    "tableColumns=df.columns\n",
    "print(\"Columns:\",tableColumns.tolist())"
   ]
  },
  {
   "cell_type": "code",
   "execution_count": 4,
   "id": "cb11ad0b",
   "metadata": {},
   "outputs": [
    {
     "data": {
      "image/png": "[encoded data removed]",
      "text/plain": [
       "<Figure size 700x500 with 1 Axes>"
      ]
     },
     "metadata": {},
     "output_type": "display_data"
    }
   ],
   "source": [
    "#We want our image to be 7 inches wide and 5 inches tall\n",
    "plt.figure(figsize=(7,5))\n",
    "\n",
    "#Our idea is to plot Number of coding hours (x-axis) vs the number of bugs (y-axis)\n",
    "\n",
    "plt.scatter(df['Hours_Coding'],df['Num_Bugs'])\n",
    "\n",
    "#Labelling of the axes\n",
    "plt.xlabel('Hours spent coding')\n",
    "plt.ylabel('Number of Bugs encountered')\n",
    "plt.title('Hours Coding vs Number of Bugs')\n",
    "\n",
    "plt.grid(True) #displays the grid lines)\n",
    "plt.show()\n",
    "\n"
   ]
  },
  {
   "cell_type": "code",
   "execution_count": 5,
   "id": "6bda9065",
   "metadata": {},
   "outputs": [
    {
     "name": "stdout",
     "output_type": "stream",
     "text": [
      "Sum of x:  621.1999999999999\n",
      "Sum of y:  1241\n",
      "Sum of (x) squared 10173.720000000001\n",
      "Sum of (y) squared 41193\n",
      "Sum of xy:  20214.09999999999\n"
     ]
    }
   ],
   "source": [
    "total_hours_coding=df[\"Hours_Coding\"].sum()\n",
    "\n",
    "    \n",
    "print(\"Sum of x: \",total_hours_coding)\n",
    "# we can then take (sum of x) squared in its standard deviation equation\n",
    "\n",
    "total_num_of_bugs=df[\"Num_Bugs\"].sum()\n",
    "print(\"Sum of y: \",total_num_of_bugs)\n",
    "#We can then also take (sum of y) squared in its standard deviation equation\n",
    "\n",
    "##This will be sum of x multiplied by sum of y in the numerator of the equation\n",
    "\n",
    "# We then get x squared sum and y squared sum, as follows.\n",
    "\n",
    "total_hours_coding_squared=(df['Hours_Coding']**2).sum()\n",
    "print(\"Sum of (x) squared\",total_hours_coding_squared)\n",
    "\n",
    "total_num_of_bugs_squared=(df['Num_Bugs']**2).sum()\n",
    "print(\"Sum of (y) squared\",total_num_of_bugs_squared)\n",
    "\n",
    "## We then come up with the equation now that we have all parameters\n",
    "\n",
    "#I am devicing a way on how to come up with the sum of individual elements in the\n",
    "#hours coding and its corresponding num_bugs column.\n",
    "#product=df['Hours_Coding'].iloc[0] * df['Num_Bugs'].iloc[0]\n",
    "#print(product)\n",
    "# Calculate the product of Hours_Coding and Num_Bugs for each row and print\n",
    "products = (df['Hours_Coding'] * df['Num_Bugs'])\n",
    "\n",
    "products_list=products.tolist()\n",
    "sum_of_xy=0\n",
    "for product in products_list:\n",
    "    sum_of_xy=sum_of_xy+product\n",
    "\n",
    "print(\"Sum of xy: \", sum_of_xy)"
   ]
  },
  {
   "cell_type": "markdown",
   "id": "188944ef",
   "metadata": {},
   "source": [
    "## Calculating Pearson's Correlation Coefficient\n",
    "\n",
    "$$\n",
    "r = \\frac{n\\sum xy - \\sum x \\sum y}{\\sqrt{[n\\sum x^2 - (\\sum x)^2][n\\sum y^2 - (\\sum y)^2]}}\n",
    "$$\n"
   ]
  },
  {
   "cell_type": "code",
   "execution_count": 6,
   "id": "5b68f787",
   "metadata": {},
   "outputs": [
    {
     "name": "stdout",
     "output_type": "stream",
     "text": [
      "Covariance of x,y:  239795.79999999958\n",
      "(Variacne of x)(Variance of y):  63801285882.64006\n",
      "(SD_x)(SD_y) : 252589.16422253757\n",
      "Pearson's correlation coefficient 0.949351096426026\n",
      "This is a strongly positive correlation\n"
     ]
    }
   ],
   "source": [
    "#The pearson correlation coeffecient is taken by: \n",
    "\n",
    "'''\n",
    "1. Numerator\n",
    "We take the number of observations [0,49] or 50 multiplied by the sum of xy,\n",
    "We then subtract the product of the sum of x and the sum of y\n",
    "\n",
    "2. Denominator\n",
    "We take the sum of all x_squared - (the sum of all x) squared\n",
    "We then do the same for y\n",
    "we multiply the two and get the square root.\n",
    "\n",
    "'''\n",
    "\n",
    "#The Numerator is thus: \n",
    "number_of_observations=50\n",
    "covariance_of_x_and_y=(number_of_observations*sum_of_xy) - (total_hours_coding*total_num_of_bugs)\n",
    "print(\"Covariance of x,y: \", covariance_of_x_and_y)\n",
    "\n",
    "#The denominator is thus:\n",
    "#First we do prerequisite calculations to make the work in finding sqrt simpler\n",
    "\n",
    "variance_x=(number_of_observations*total_hours_coding_squared)-(total_hours_coding**2)\n",
    "variance_y=(number_of_observations*total_num_of_bugs_squared)-(total_num_of_bugs**2)\n",
    "\n",
    "varicances_product=variance_x * variance_y\n",
    "print(\"(Variacne of x)(Variance of y): \", varicances_product)\n",
    "\n",
    "sdx_sdy=np.sqrt(varicances_product)\n",
    "print(\"(SD_x)(SD_y) :\", sdx_sdy)\n",
    "\n",
    "\n",
    "\n",
    "pearsons_correlation_coefficient= covariance_of_x_and_y/sdx_sdy\n",
    "\n",
    "print(\"Pearson's correlation coefficient\",pearsons_correlation_coefficient)\n",
    "\n",
    "if (pearsons_correlation_coefficient<0):\n",
    "    if (pearsons_correlation_coefficient<-0.5):\n",
    "        print(\"This is a highly negative correlation\")\n",
    "    else:\n",
    "        print('This is a negative correlation')\n",
    "else:\n",
    "    if(pearsons_correlation_coefficient>0.5):\n",
    "        print(\"This is a strongly positive correlation\")\n",
    "    else:\n",
    "        print('This is a positive correlation')\n"
   ]
  },
  {
   "cell_type": "markdown",
   "id": "d3b1470d",
   "metadata": {},
   "source": [
    "## Developing a Regression equation\n",
    "\n",
    "$$y=a+bx$$\n",
    "\n",
    "Since there is a `strong positive correlation`, it then follows that probably the number of bugs encountered by a programmer while coding directly affects the number of hours they will spend coding in a **positive** way.\n",
    "<br>\n",
    "\n",
    "In other words, an **increase in the number of bugs** encountered will lead to an **increase in the number of hours** one will spend coding. (Directly proportional)\n"
   ]
  },
  {
   "cell_type": "markdown",
   "id": "f8baa72b",
   "metadata": {},
   "source": [
    "```python\n",
    "#y is the number of coding hours\n",
    "#x is the number of bugs spotted\n",
    "'''\n",
    "y and x are provided within the dataset but we do not know a and b, the determinants for\n",
    "our line of best fit.\n",
    "\n",
    "a=y_bar - b x_bar, but we still do not know b\n",
    "so we search for b.\n",
    "\n",
    "\n",
    "'''\n",
    "```\n"
   ]
  },
  {
   "cell_type": "markdown",
   "id": "2c6d4930",
   "metadata": {},
   "source": [
    "### Finding b\n",
    "\n",
    "Based on a few derivations, we can deduce b to be the equation below\n",
    "<br>\n",
    "\n",
    "$$\n",
    "b= \\frac{n\\sum xy - \\sum x \\sum y}{n\\sum x^2- (\\sum x)^2}\n",
    "$$\n"
   ]
  },
  {
   "cell_type": "code",
   "execution_count": 7,
   "id": "16b4832b",
   "metadata": {},
   "outputs": [
    {
     "name": "stdout",
     "output_type": "stream",
     "text": [
      "Coefficient b :  1.9527892312292736\n"
     ]
    }
   ],
   "source": [
    "# We had defined sum of xy earlier\n",
    "#Finding b\n",
    "b_numerator= (number_of_observations*sum_of_xy)-(total_hours_coding*total_num_of_bugs)\n",
    "b_denomintator= (number_of_observations*total_hours_coding_squared)-(total_hours_coding**2)\n",
    "\n",
    "b=b_numerator/b_denomintator\n",
    "\n",
    "print(\"Coefficient b : \",b)\n"
   ]
  },
  {
   "cell_type": "markdown",
   "id": "b11c5887",
   "metadata": {},
   "source": [
    "### Finding a\n",
    "\n",
    "We use the data that we obtain from finding b.\n",
    "\n",
    "$$\n",
    "a=\\bar{y} - b\\bar{x}\n",
    "$$\n"
   ]
  },
  {
   "cell_type": "code",
   "execution_count": 8,
   "id": "501c50b7",
   "metadata": {},
   "outputs": [
    {
     "name": "stdout",
     "output_type": "stream",
     "text": [
      "Coefficient a : 0.5585465912075058\n"
     ]
    }
   ],
   "source": [
    "'''\n",
    "bar y is the mean count of bug\n",
    "bar x is the mean hours spent coding\n",
    "'''\n",
    "\n",
    "bug_mean=total_num_of_bugs/number_of_observations\n",
    "coding_mean=total_hours_coding/number_of_observations\n",
    "\n",
    "a=bug_mean-(b*coding_mean)\n",
    "\n",
    "print(\"Coefficient a :\", a)"
   ]
  },
  {
   "cell_type": "markdown",
   "id": "c370308c",
   "metadata": {},
   "source": [
    "### The regression equation\n",
    "\n",
    "Now that we have a and b, (intercept and gradient), we can develop a general equation for this relationship.\n",
    "\n",
    "$$\n",
    "y=mx+c\n",
    "$$\n",
    "\n",
    "$$\n",
    "y=1.953x + 0.559\n",
    "$$\n",
    "\n",
    "Our next task is to use the model to predict the number of bugs for 20 hours of coding.\n",
    "We will substitute 20 to be y and then solve for x, as follows:<br>\n",
    "\n",
    "$Number of bugs=1.953x +0.559$\n"
   ]
  },
  {
   "cell_type": "code",
   "execution_count": 9,
   "id": "48475fa5",
   "metadata": {},
   "outputs": [
    {
     "name": "stdout",
     "output_type": "stream",
     "text": [
      "Number of bugs for 20 hours:  39.619\n"
     ]
    }
   ],
   "source": [
    "\n",
    "#The number of bugs for 20 hours of coding will then be executed\n",
    "#by the following operation\n",
    "def prediction_equation(number):\n",
    "    #Returns the number of bugs based on a specific number of hours\n",
    "    bugs_prediction=(1.953*number +0.559)\n",
    "    return bugs_prediction\n",
    "\n",
    "#bugs_prediction=(1.953*20)+0.559\n",
    "print(\"Number of bugs for 20 hours: \",prediction_equation(20))"
   ]
  },
  {
   "cell_type": "markdown",
   "id": "13bef096",
   "metadata": {},
   "source": [
    "## Developing a frequency distribution\n"
   ]
  },
  {
   "cell_type": "markdown",
   "id": "68efb0e6",
   "metadata": {},
   "source": [
    "```python\n",
    "frequency_df = df['Num_Bugs'].value_counts().sort_index().reset_index()\n",
    "'''\n",
    "Value counts -> counts the frequency of values in the num_bugs column\n",
    "Sort index -> sorts the values in ascending order\n",
    "reset index -> converts a frequency series into a datframe with a column of the value counts\n",
    "'''\n",
    "frequency_df.columns = ['Num_Bugs', 'Frequency']\n",
    "##print(frequency_df)\n",
    "```\n"
   ]
  },
  {
   "cell_type": "code",
   "execution_count": 10,
   "id": "14d1c19b",
   "metadata": {},
   "outputs": [
    {
     "name": "stdout",
     "output_type": "stream",
     "text": [
      "    Num_Bugs  Frequency\n",
      "0          2          1\n",
      "1          3          2\n",
      "2          6          3\n",
      "3          7          1\n",
      "4          8          1\n",
      "5          9          1\n",
      "6         12          4\n",
      "7         14          1\n",
      "8         15          3\n",
      "9         16          1\n",
      "10        17          2\n",
      "11        18          1\n",
      "12        19          1\n",
      "13        22          1\n",
      "14        23          1\n",
      "15        25          1\n",
      "16        26          1\n",
      "17        27          2\n",
      "18        29          3\n",
      "19        30          1\n",
      "20        31          2\n",
      "21        33          2\n",
      "22        34          2\n",
      "23        35          1\n",
      "24        37          2\n",
      "25        38          1\n",
      "26        40          1\n",
      "27        45          1\n",
      "28        47          1\n",
      "29        48          1\n",
      "30        49          1\n",
      "31        50          1\n",
      "32        51          1\n",
      "33        57          1\n"
     ]
    }
   ],
   "source": [
    "frequency_df = df['Num_Bugs'].value_counts().sort_index().reset_index()\n",
    "frequency_df.columns = ['Num_Bugs', 'Frequency']\n",
    "print(frequency_df)"
   ]
  },
  {
   "cell_type": "code",
   "execution_count": 16,
   "id": "5541ce18",
   "metadata": {},
   "outputs": [
    {
     "name": "stdout",
     "output_type": "stream",
     "text": [
      "Sample mean:  24.82\n",
      "Standard deviation:  14.562588354816485\n"
     ]
    },
    {
     "data": {
      "image/png": "[encoded data removed]",
      "text/plain": [
       "<Figure size 800x500 with 1 Axes>"
      ]
     },
     "metadata": {},
     "output_type": "display_data"
    }
   ],
   "source": [
    "#Plot the histogram\n",
    "from scipy.stats import norm\n",
    "\n",
    "\n",
    "plt.figure(figsize=(8,5))\n",
    "plt.bar(frequency_df['Num_Bugs'], frequency_df['Frequency'], width=0.8, color='skyblue', edgecolor='black')\n",
    "\n",
    "sample_mean=df['Num_Bugs'].mean()\n",
    "std_deviation=df['Num_Bugs'].std()\n",
    "\n",
    "print(\"Sample mean: \", sample_mean)\n",
    "print(\"Standard deviation: \",std_deviation)\n",
    "\n",
    "x=np.linspace(df['Num_Bugs'].min(),df['Num_Bugs'].max(),100)\n",
    "histogram_max=frequency_df['Frequency'].max()\n",
    "\n",
    "probability_density_function = norm.pdf(x, sample_mean, std_deviation)\n",
    "pdf_to_scale = probability_density_function * (histogram_max / probability_density_function.max())\n",
    "plt.plot(x,pdf_to_scale,color='red',linewidth=2,label='Normal Curve')\n",
    "plt.xlabel('Number of Bugs')\n",
    "plt.ylabel('Frequency')\n",
    "plt.title('Histogram of Number of Bugs')\n",
    "plt.grid(axis='y', linestyle='--', alpha=1)\n",
    "plt.show()\n"
   ]
  }
 ],
 "metadata": {
  "kernelspec": {
   "display_name": "Python 3",
   "language": "python",
   "name": "python3"
  },
  "language_info": {
   "codemirror_mode": {
    "name": "ipython",
    "version": 3
   },
   "file_extension": ".py",
   "mimetype": "text/x-python",
   "name": "python",
   "nbconvert_exporter": "python",
   "pygments_lexer": "ipython3",
   "version": "3.12.6"
  }
 },
 "nbformat": 4,
 "nbformat_minor": 5
}
